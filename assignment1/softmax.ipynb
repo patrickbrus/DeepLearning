{
 "cells": [
  {
   "cell_type": "markdown",
   "metadata": {},
   "source": [
    "# Softmax exercise\n",
    "\n",
    "*Complete and hand in this completed worksheet (including its outputs and any supporting code outside of the worksheet) with your assignment submission. For more details see the [assignments page](http://vision.stanford.edu/teaching/cs231n/assignments.html) on the course website.*\n",
    "\n",
    "This exercise is analogous to the SVM exercise. You will:\n",
    "\n",
    "- implement a fully-vectorized **loss function** for the Softmax classifier\n",
    "- implement the fully-vectorized expression for its **analytic gradient**\n",
    "- **check your implementation** with numerical gradient\n",
    "- use a validation set to **tune the learning rate and regularization** strength\n",
    "- **optimize** the loss function with **SGD**\n",
    "- **visualize** the final learned weights\n"
   ]
  },
  {
   "cell_type": "code",
   "execution_count": 2,
   "metadata": {},
   "outputs": [],
   "source": [
    "from __future__ import print_function\n",
    "\n",
    "import random\n",
    "import numpy as np\n",
    "from cs231n.data_utils import load_CIFAR10\n",
    "import matplotlib.pyplot as plt\n",
    "\n",
    "%matplotlib inline\n",
    "plt.rcParams['figure.figsize'] = (10.0, 8.0) # set default size of plots\n",
    "plt.rcParams['image.interpolation'] = 'nearest'\n",
    "plt.rcParams['image.cmap'] = 'gray'\n",
    "\n",
    "# for auto-reloading extenrnal modules\n",
    "# see http://stackoverflow.com/questions/1907993/autoreload-of-modules-in-ipython\n",
    "%load_ext autoreload\n",
    "%autoreload 2"
   ]
  },
  {
   "cell_type": "code",
   "execution_count": 3,
   "metadata": {},
   "outputs": [
    {
     "name": "stdout",
     "output_type": "stream",
     "text": [
      "Train data shape:  (49000, 3073)\n",
      "Train labels shape:  (49000,)\n",
      "Validation data shape:  (1000, 3073)\n",
      "Validation labels shape:  (1000,)\n",
      "Test data shape:  (1000, 3073)\n",
      "Test labels shape:  (1000,)\n",
      "dev data shape:  (500, 3073)\n",
      "dev labels shape:  (500,)\n"
     ]
    }
   ],
   "source": [
    "def get_CIFAR10_data(num_training=49000, num_validation=1000, num_test=1000, num_dev=500):\n",
    "    \"\"\"\n",
    "    Load the CIFAR-10 dataset from disk and perform preprocessing to prepare\n",
    "    it for the linear classifier. These are the same steps as we used for the\n",
    "    SVM, but condensed to a single function.  \n",
    "    \"\"\"\n",
    "    # Load the raw CIFAR-10 data\n",
    "    cifar10_dir = 'cs231n/datasets/cifar-10-batches-py'\n",
    "    X_train, y_train, X_test, y_test = load_CIFAR10(cifar10_dir)\n",
    "    \n",
    "    # subsample the data\n",
    "    mask = list(range(num_training, num_training + num_validation))\n",
    "    X_val = X_train[mask]\n",
    "    y_val = y_train[mask]\n",
    "    mask = list(range(num_training))\n",
    "    X_train = X_train[mask]\n",
    "    y_train = y_train[mask]\n",
    "    mask = list(range(num_test))\n",
    "    X_test = X_test[mask]\n",
    "    y_test = y_test[mask]\n",
    "    mask = np.random.choice(num_training, num_dev, replace=False)\n",
    "    X_dev = X_train[mask]\n",
    "    y_dev = y_train[mask]\n",
    "    \n",
    "    # Preprocessing: reshape the image data into rows\n",
    "    X_train = np.reshape(X_train, (X_train.shape[0], -1))\n",
    "    X_val = np.reshape(X_val, (X_val.shape[0], -1))\n",
    "    X_test = np.reshape(X_test, (X_test.shape[0], -1))\n",
    "    X_dev = np.reshape(X_dev, (X_dev.shape[0], -1))\n",
    "    \n",
    "    # Normalize the data: subtract the mean image\n",
    "    mean_image = np.mean(X_train, axis = 0)\n",
    "    X_train -= mean_image\n",
    "    X_val -= mean_image\n",
    "    X_test -= mean_image\n",
    "    X_dev -= mean_image\n",
    "    \n",
    "    # add bias dimension and transform into columns\n",
    "    X_train = np.hstack([X_train, np.ones((X_train.shape[0], 1))])\n",
    "    X_val = np.hstack([X_val, np.ones((X_val.shape[0], 1))])\n",
    "    X_test = np.hstack([X_test, np.ones((X_test.shape[0], 1))])\n",
    "    X_dev = np.hstack([X_dev, np.ones((X_dev.shape[0], 1))])\n",
    "    \n",
    "    return X_train, y_train, X_val, y_val, X_test, y_test, X_dev, y_dev\n",
    "\n",
    "\n",
    "# Invoke the above function to get our data.\n",
    "X_train, y_train, X_val, y_val, X_test, y_test, X_dev, y_dev = get_CIFAR10_data()\n",
    "print('Train data shape: ', X_train.shape)\n",
    "print('Train labels shape: ', y_train.shape)\n",
    "print('Validation data shape: ', X_val.shape)\n",
    "print('Validation labels shape: ', y_val.shape)\n",
    "print('Test data shape: ', X_test.shape)\n",
    "print('Test labels shape: ', y_test.shape)\n",
    "print('dev data shape: ', X_dev.shape)\n",
    "print('dev labels shape: ', y_dev.shape)"
   ]
  },
  {
   "cell_type": "markdown",
   "metadata": {},
   "source": [
    "## Softmax Classifier\n",
    "\n",
    "Your code for this section will all be written inside **cs231n/classifiers/softmax.py**. \n"
   ]
  },
  {
   "cell_type": "code",
   "execution_count": 11,
   "metadata": {},
   "outputs": [
    {
     "name": "stdout",
     "output_type": "stream",
     "text": [
      "loss: 2.329989\n",
      "sanity check: 2.302585\n"
     ]
    }
   ],
   "source": [
    "# First implement the naive softmax loss function with nested loops.\n",
    "# Open the file cs231n/classifiers/softmax.py and implement the\n",
    "# softmax_loss_naive function.\n",
    "\n",
    "from cs231n.classifiers.softmax import softmax_loss_naive\n",
    "import time\n",
    "\n",
    "# Generate a random softmax weight matrix and use it to compute the loss.\n",
    "W = np.random.randn(3073, 10) * 0.0001\n",
    "loss, grad = softmax_loss_naive(W, X_dev, y_dev, 0.0)\n",
    "\n",
    "# As a rough sanity check, our loss should be something close to -log(0.1).\n",
    "print('loss: %f' % loss)\n",
    "print('sanity check: %f' % (-np.log(0.1)))"
   ]
  },
  {
   "cell_type": "markdown",
   "metadata": {},
   "source": [
    "## Inline Question 1:\n",
    "Why do we expect our loss to be close to -log(0.1)? Explain briefly.**\n",
    "\n",
    "**Your answer:** *Fill this in*\n"
   ]
  },
  {
   "cell_type": "code",
   "execution_count": 12,
   "metadata": {},
   "outputs": [
    {
     "name": "stdout",
     "output_type": "stream",
     "text": [
      "numerical: 1.528073 analytic: 1.528073, relative error: 1.418276e-08\n",
      "numerical: -0.665115 analytic: -0.665115, relative error: 1.819255e-08\n",
      "numerical: -1.916614 analytic: -1.916615, relative error: 4.071122e-08\n",
      "numerical: 0.311058 analytic: 0.311057, relative error: 1.208379e-07\n",
      "numerical: 0.470590 analytic: 0.470590, relative error: 1.231483e-07\n",
      "numerical: 1.167099 analytic: 1.167099, relative error: 6.704090e-08\n",
      "numerical: 3.082339 analytic: 3.082339, relative error: 1.430340e-08\n",
      "numerical: 0.045737 analytic: 0.045737, relative error: 9.833854e-07\n",
      "numerical: -1.187149 analytic: -1.187149, relative error: 3.275473e-08\n",
      "numerical: -0.581786 analytic: -0.581786, relative error: 3.111698e-08\n",
      "numerical: 0.774974 analytic: 0.774974, relative error: 4.673084e-08\n",
      "numerical: 1.321428 analytic: 1.321428, relative error: 5.304630e-09\n",
      "numerical: -2.788937 analytic: -2.788937, relative error: 2.350182e-08\n",
      "numerical: 0.369478 analytic: 0.369478, relative error: 4.609316e-08\n",
      "numerical: -1.334597 analytic: -1.334597, relative error: 3.796721e-08\n",
      "numerical: 3.821682 analytic: 3.821682, relative error: 3.863888e-09\n",
      "numerical: 1.005572 analytic: 1.005572, relative error: 1.885720e-08\n",
      "numerical: -2.139132 analytic: -2.139132, relative error: 5.063081e-08\n",
      "numerical: -0.914455 analytic: -0.914455, relative error: 4.779195e-08\n",
      "numerical: 1.370610 analytic: 1.370610, relative error: 2.089715e-08\n"
     ]
    }
   ],
   "source": [
    "# Complete the implementation of softmax_loss_naive and implement a (naive)\n",
    "# version of the gradient that uses nested loops.\n",
    "loss, grad = softmax_loss_naive(W, X_dev, y_dev, 0.0)\n",
    "\n",
    "# As we did for the SVM, use numeric gradient checking as a debugging tool.\n",
    "# The numeric gradient should be close to the analytic gradient.\n",
    "from cs231n.gradient_check import grad_check_sparse\n",
    "f = lambda w: softmax_loss_naive(w, X_dev, y_dev, 0.0)[0]\n",
    "grad_numerical = grad_check_sparse(f, W, grad, 10)\n",
    "\n",
    "# similar to SVM case, do another gradient check with regularization\n",
    "loss, grad = softmax_loss_naive(W, X_dev, y_dev, 5e1)\n",
    "f = lambda w: softmax_loss_naive(w, X_dev, y_dev, 5e1)[0]\n",
    "grad_numerical = grad_check_sparse(f, W, grad, 10)"
   ]
  },
  {
   "cell_type": "code",
   "execution_count": 13,
   "metadata": {},
   "outputs": [
    {
     "name": "stdout",
     "output_type": "stream",
     "text": [
      "naive loss: 2.329989e+00 computed in 0.202371s\n",
      "vectorized loss: 2.329989e+00 computed in 0.007605s\n",
      "Loss difference: 0.000000\n",
      "Gradient difference: 0.000000\n"
     ]
    }
   ],
   "source": [
    "# Now that we have a naive implementation of the softmax loss function and its gradient,\n",
    "# implement a vectorized version in softmax_loss_vectorized.\n",
    "# The two versions should compute the same results, but the vectorized version should be\n",
    "# much faster.\n",
    "tic = time.time()\n",
    "loss_naive, grad_naive = softmax_loss_naive(W, X_dev, y_dev, 0.000005)\n",
    "toc = time.time()\n",
    "print('naive loss: %e computed in %fs' % (loss_naive, toc - tic))\n",
    "\n",
    "from cs231n.classifiers.softmax import softmax_loss_vectorized\n",
    "tic = time.time()\n",
    "loss_vectorized, grad_vectorized = softmax_loss_vectorized(W, X_dev, y_dev, 0.000005)\n",
    "toc = time.time()\n",
    "print('vectorized loss: %e computed in %fs' % (loss_vectorized, toc - tic))\n",
    "\n",
    "# As we did for the SVM, we use the Frobenius norm to compare the two versions\n",
    "# of the gradient.\n",
    "grad_difference = np.linalg.norm(grad_naive - grad_vectorized, ord='fro')\n",
    "print('Loss difference: %f' % np.abs(loss_naive - loss_vectorized))\n",
    "print('Gradient difference: %f' % grad_difference)"
   ]
  },
  {
   "cell_type": "code",
   "execution_count": 21,
   "metadata": {},
   "outputs": [
    {
     "name": "stdout",
     "output_type": "stream",
     "text": [
      "New Best: 0.351000\n",
      "lr 1.000000e-07 reg 2.500000e+04 train accuracy: 0.332633 val accuracy: 0.351000\n",
      "lr 1.000000e-07 reg 2.777778e+04 train accuracy: 0.325286 val accuracy: 0.338000\n",
      "lr 1.000000e-07 reg 3.055556e+04 train accuracy: 0.323959 val accuracy: 0.344000\n",
      "lr 1.000000e-07 reg 3.333333e+04 train accuracy: 0.314490 val accuracy: 0.331000\n",
      "lr 1.000000e-07 reg 3.611111e+04 train accuracy: 0.318000 val accuracy: 0.329000\n",
      "lr 1.000000e-07 reg 3.888889e+04 train accuracy: 0.315510 val accuracy: 0.338000\n",
      "lr 1.000000e-07 reg 4.166667e+04 train accuracy: 0.313592 val accuracy: 0.326000\n",
      "lr 1.000000e-07 reg 4.444444e+04 train accuracy: 0.306694 val accuracy: 0.323000\n",
      "lr 1.000000e-07 reg 4.722222e+04 train accuracy: 0.307102 val accuracy: 0.325000\n",
      "lr 1.000000e-07 reg 5.000000e+04 train accuracy: 0.301000 val accuracy: 0.320000\n",
      "lr 1.444444e-07 reg 2.500000e+04 train accuracy: 0.333959 val accuracy: 0.348000\n",
      "lr 1.444444e-07 reg 2.777778e+04 train accuracy: 0.322061 val accuracy: 0.336000\n",
      "lr 1.444444e-07 reg 3.055556e+04 train accuracy: 0.321633 val accuracy: 0.334000\n",
      "lr 1.444444e-07 reg 3.333333e+04 train accuracy: 0.323469 val accuracy: 0.328000\n",
      "lr 1.444444e-07 reg 3.611111e+04 train accuracy: 0.320143 val accuracy: 0.330000\n",
      "lr 1.444444e-07 reg 3.888889e+04 train accuracy: 0.317265 val accuracy: 0.341000\n",
      "lr 1.444444e-07 reg 4.166667e+04 train accuracy: 0.313816 val accuracy: 0.329000\n",
      "lr 1.444444e-07 reg 4.444444e+04 train accuracy: 0.308306 val accuracy: 0.327000\n",
      "lr 1.444444e-07 reg 4.722222e+04 train accuracy: 0.309776 val accuracy: 0.324000\n",
      "lr 1.444444e-07 reg 5.000000e+04 train accuracy: 0.305490 val accuracy: 0.325000\n",
      "lr 1.888889e-07 reg 2.500000e+04 train accuracy: 0.327102 val accuracy: 0.332000\n",
      "lr 1.888889e-07 reg 2.777778e+04 train accuracy: 0.328327 val accuracy: 0.339000\n",
      "lr 1.888889e-07 reg 3.055556e+04 train accuracy: 0.326551 val accuracy: 0.338000\n",
      "lr 1.888889e-07 reg 3.333333e+04 train accuracy: 0.315469 val accuracy: 0.329000\n",
      "lr 1.888889e-07 reg 3.611111e+04 train accuracy: 0.309816 val accuracy: 0.325000\n",
      "lr 1.888889e-07 reg 3.888889e+04 train accuracy: 0.315918 val accuracy: 0.337000\n",
      "lr 1.888889e-07 reg 4.166667e+04 train accuracy: 0.312612 val accuracy: 0.324000\n",
      "lr 1.888889e-07 reg 4.444444e+04 train accuracy: 0.312408 val accuracy: 0.325000\n",
      "lr 1.888889e-07 reg 4.722222e+04 train accuracy: 0.301082 val accuracy: 0.312000\n",
      "lr 1.888889e-07 reg 5.000000e+04 train accuracy: 0.303020 val accuracy: 0.322000\n",
      "lr 2.333333e-07 reg 2.500000e+04 train accuracy: 0.326265 val accuracy: 0.337000\n",
      "lr 2.333333e-07 reg 2.777778e+04 train accuracy: 0.330490 val accuracy: 0.346000\n",
      "lr 2.333333e-07 reg 3.055556e+04 train accuracy: 0.325816 val accuracy: 0.339000\n",
      "lr 2.333333e-07 reg 3.333333e+04 train accuracy: 0.315592 val accuracy: 0.335000\n",
      "lr 2.333333e-07 reg 3.611111e+04 train accuracy: 0.309490 val accuracy: 0.330000\n",
      "lr 2.333333e-07 reg 3.888889e+04 train accuracy: 0.320939 val accuracy: 0.338000\n",
      "lr 2.333333e-07 reg 4.166667e+04 train accuracy: 0.311408 val accuracy: 0.336000\n",
      "lr 2.333333e-07 reg 4.444444e+04 train accuracy: 0.304755 val accuracy: 0.321000\n",
      "lr 2.333333e-07 reg 4.722222e+04 train accuracy: 0.308041 val accuracy: 0.317000\n",
      "lr 2.333333e-07 reg 5.000000e+04 train accuracy: 0.303653 val accuracy: 0.321000\n",
      "lr 2.777778e-07 reg 2.500000e+04 train accuracy: 0.327571 val accuracy: 0.340000\n",
      "lr 2.777778e-07 reg 2.777778e+04 train accuracy: 0.318857 val accuracy: 0.330000\n",
      "lr 2.777778e-07 reg 3.055556e+04 train accuracy: 0.320122 val accuracy: 0.331000\n",
      "lr 2.777778e-07 reg 3.333333e+04 train accuracy: 0.316061 val accuracy: 0.327000\n",
      "lr 2.777778e-07 reg 3.611111e+04 train accuracy: 0.320714 val accuracy: 0.338000\n",
      "lr 2.777778e-07 reg 3.888889e+04 train accuracy: 0.313980 val accuracy: 0.333000\n",
      "lr 2.777778e-07 reg 4.166667e+04 train accuracy: 0.312224 val accuracy: 0.322000\n",
      "lr 2.777778e-07 reg 4.444444e+04 train accuracy: 0.301102 val accuracy: 0.316000\n",
      "lr 2.777778e-07 reg 4.722222e+04 train accuracy: 0.298531 val accuracy: 0.310000\n",
      "lr 2.777778e-07 reg 5.000000e+04 train accuracy: 0.309388 val accuracy: 0.311000\n",
      "lr 3.222222e-07 reg 2.500000e+04 train accuracy: 0.327449 val accuracy: 0.339000\n",
      "lr 3.222222e-07 reg 2.777778e+04 train accuracy: 0.315918 val accuracy: 0.328000\n",
      "lr 3.222222e-07 reg 3.055556e+04 train accuracy: 0.320388 val accuracy: 0.346000\n",
      "lr 3.222222e-07 reg 3.333333e+04 train accuracy: 0.312694 val accuracy: 0.337000\n",
      "lr 3.222222e-07 reg 3.611111e+04 train accuracy: 0.317082 val accuracy: 0.328000\n",
      "lr 3.222222e-07 reg 3.888889e+04 train accuracy: 0.319204 val accuracy: 0.330000\n",
      "lr 3.222222e-07 reg 4.166667e+04 train accuracy: 0.303184 val accuracy: 0.321000\n",
      "lr 3.222222e-07 reg 4.444444e+04 train accuracy: 0.303041 val accuracy: 0.308000\n",
      "lr 3.222222e-07 reg 4.722222e+04 train accuracy: 0.306122 val accuracy: 0.314000\n",
      "lr 3.222222e-07 reg 5.000000e+04 train accuracy: 0.301898 val accuracy: 0.318000\n",
      "lr 3.666667e-07 reg 2.500000e+04 train accuracy: 0.326714 val accuracy: 0.341000\n",
      "lr 3.666667e-07 reg 2.777778e+04 train accuracy: 0.318980 val accuracy: 0.341000\n",
      "lr 3.666667e-07 reg 3.055556e+04 train accuracy: 0.318857 val accuracy: 0.328000\n",
      "lr 3.666667e-07 reg 3.333333e+04 train accuracy: 0.320898 val accuracy: 0.336000\n",
      "lr 3.666667e-07 reg 3.611111e+04 train accuracy: 0.319122 val accuracy: 0.337000\n",
      "lr 3.666667e-07 reg 3.888889e+04 train accuracy: 0.314184 val accuracy: 0.320000\n",
      "lr 3.666667e-07 reg 4.166667e+04 train accuracy: 0.314612 val accuracy: 0.324000\n",
      "lr 3.666667e-07 reg 4.444444e+04 train accuracy: 0.307408 val accuracy: 0.324000\n",
      "lr 3.666667e-07 reg 4.722222e+04 train accuracy: 0.309000 val accuracy: 0.328000\n",
      "lr 3.666667e-07 reg 5.000000e+04 train accuracy: 0.305000 val accuracy: 0.315000\n",
      "lr 4.111111e-07 reg 2.500000e+04 train accuracy: 0.320429 val accuracy: 0.337000\n",
      "lr 4.111111e-07 reg 2.777778e+04 train accuracy: 0.321041 val accuracy: 0.327000\n",
      "lr 4.111111e-07 reg 3.055556e+04 train accuracy: 0.310388 val accuracy: 0.330000\n",
      "lr 4.111111e-07 reg 3.333333e+04 train accuracy: 0.315612 val accuracy: 0.335000\n",
      "lr 4.111111e-07 reg 3.611111e+04 train accuracy: 0.311408 val accuracy: 0.323000\n",
      "lr 4.111111e-07 reg 3.888889e+04 train accuracy: 0.306224 val accuracy: 0.323000\n",
      "lr 4.111111e-07 reg 4.166667e+04 train accuracy: 0.316714 val accuracy: 0.337000\n",
      "lr 4.111111e-07 reg 4.444444e+04 train accuracy: 0.306653 val accuracy: 0.330000\n",
      "lr 4.111111e-07 reg 4.722222e+04 train accuracy: 0.308327 val accuracy: 0.326000\n",
      "lr 4.111111e-07 reg 5.000000e+04 train accuracy: 0.310918 val accuracy: 0.329000\n",
      "lr 4.555556e-07 reg 2.500000e+04 train accuracy: 0.325020 val accuracy: 0.337000\n",
      "lr 4.555556e-07 reg 2.777778e+04 train accuracy: 0.317653 val accuracy: 0.334000\n",
      "lr 4.555556e-07 reg 3.055556e+04 train accuracy: 0.313245 val accuracy: 0.330000\n",
      "lr 4.555556e-07 reg 3.333333e+04 train accuracy: 0.313122 val accuracy: 0.338000\n",
      "lr 4.555556e-07 reg 3.611111e+04 train accuracy: 0.298469 val accuracy: 0.317000\n",
      "lr 4.555556e-07 reg 3.888889e+04 train accuracy: 0.301286 val accuracy: 0.324000\n",
      "lr 4.555556e-07 reg 4.166667e+04 train accuracy: 0.296980 val accuracy: 0.320000\n",
      "lr 4.555556e-07 reg 4.444444e+04 train accuracy: 0.316408 val accuracy: 0.319000\n",
      "lr 4.555556e-07 reg 4.722222e+04 train accuracy: 0.302367 val accuracy: 0.314000\n",
      "lr 4.555556e-07 reg 5.000000e+04 train accuracy: 0.293653 val accuracy: 0.307000\n",
      "lr 5.000000e-07 reg 2.500000e+04 train accuracy: 0.335143 val accuracy: 0.344000\n",
      "lr 5.000000e-07 reg 2.777778e+04 train accuracy: 0.315653 val accuracy: 0.332000\n",
      "lr 5.000000e-07 reg 3.055556e+04 train accuracy: 0.325898 val accuracy: 0.340000\n",
      "lr 5.000000e-07 reg 3.333333e+04 train accuracy: 0.313959 val accuracy: 0.323000\n",
      "lr 5.000000e-07 reg 3.611111e+04 train accuracy: 0.313531 val accuracy: 0.319000\n",
      "lr 5.000000e-07 reg 3.888889e+04 train accuracy: 0.307653 val accuracy: 0.314000\n",
      "lr 5.000000e-07 reg 4.166667e+04 train accuracy: 0.307122 val accuracy: 0.327000\n",
      "lr 5.000000e-07 reg 4.444444e+04 train accuracy: 0.311286 val accuracy: 0.315000\n",
      "lr 5.000000e-07 reg 4.722222e+04 train accuracy: 0.304102 val accuracy: 0.319000\n",
      "lr 5.000000e-07 reg 5.000000e+04 train accuracy: 0.314490 val accuracy: 0.322000\n",
      "best validation accuracy achieved during cross-validation: 0.351000\n"
     ]
    }
   ],
   "source": [
    "# Use the validation set to tune hyperparameters (regularization strength and\n",
    "# learning rate). You should experiment with different ranges for the learning\n",
    "# rates and regularization strengths; if you are careful you should be able to\n",
    "# get a classification accuracy of over 0.35 on the validation set.\n",
    "from cs231n.classifiers import Softmax\n",
    "results = {}\n",
    "best_val = -1\n",
    "best_softmax = None\n",
    "learning_rates = [1e-7, 5e-7]\n",
    "regularization_strengths = [2.5e4, 5e4]\n",
    "\n",
    "################################################################################\n",
    "# TODO:                                                                        #\n",
    "# Use the validation set to set the learning rate and regularization strength. #\n",
    "# This should be identical to the validation that you did for the SVM; save    #\n",
    "# the best trained softmax classifer in best_softmax.                          #\n",
    "################################################################################\n",
    "learning_rates_tries = np.linspace(learning_rates[0],learning_rates[1],10)\n",
    "regularization_strengths_tries = np.linspace(regularization_strengths[0],\n",
    "                                             regularization_strengths[1],10)\n",
    "\n",
    "actual_accuracy_val = 0.0\n",
    "actual_accuracy_train = 0.0\n",
    "\n",
    "for rate in learning_rates_tries:\n",
    "    for reg_val in regularization_strengths_tries:\n",
    "        softmax = Softmax()\n",
    "        loss_hist = softmax.train(X_train, y_train, learning_rate=rate, reg=reg_val,\n",
    "                              num_iters=1500, verbose=False)\n",
    "        \n",
    "        y_train_pred = softmax.predict(X_train)\n",
    "        actual_accuracy_train = np.mean(y_train == y_train_pred)\n",
    "        \n",
    "        y_val_pred = softmax.predict(X_val)\n",
    "        actual_accuracy_val = np.mean(y_val == y_val_pred)\n",
    "        \n",
    "        results[(rate,reg_val)] = (actual_accuracy_train,actual_accuracy_val)\n",
    "        \n",
    "        #print('validation accuracy: %f' % (actual_accuracy_val) )\n",
    "        \n",
    "        if(actual_accuracy_val > best_val):\n",
    "            print(\"New Best: %f\" %(actual_accuracy_val))\n",
    "            best_val = actual_accuracy_val\n",
    "            best_softmax = softmax\n",
    "################################################################################\n",
    "#                              END OF YOUR CODE                                #\n",
    "################################################################################\n",
    "    \n",
    "# Print out results.\n",
    "for lr, reg in sorted(results):\n",
    "    train_accuracy, val_accuracy = results[(lr, reg)]\n",
    "    print('lr %e reg %e train accuracy: %f val accuracy: %f' % (\n",
    "                lr, reg, train_accuracy, val_accuracy))\n",
    "    \n",
    "print('best validation accuracy achieved during cross-validation: %f' % best_val)"
   ]
  },
  {
   "cell_type": "code",
   "execution_count": 22,
   "metadata": {},
   "outputs": [
    {
     "name": "stdout",
     "output_type": "stream",
     "text": [
      "softmax on raw pixels final test set accuracy: 0.344000\n"
     ]
    }
   ],
   "source": [
    "# evaluate on test set\n",
    "# Evaluate the best softmax on test set\n",
    "y_test_pred = best_softmax.predict(X_test)\n",
    "test_accuracy = np.mean(y_test == y_test_pred)\n",
    "print('softmax on raw pixels final test set accuracy: %f' % (test_accuracy, ))"
   ]
  },
  {
   "cell_type": "code",
   "execution_count": 23,
   "metadata": {},
   "outputs": [
    {
     "data": {
      "image/png": "[encoded data removed]",
      "text/plain": [
       "<matplotlib.figure.Figure at 0x7ff38c64eb38>"
      ]
     },
     "metadata": {
      "needs_background": "light"
     },
     "output_type": "display_data"
    }
   ],
   "source": [
    "# Visualize the learned weights for each class\n",
    "w = best_softmax.W[:-1,:] # strip out the bias\n",
    "w = w.reshape(32, 32, 3, 10)\n",
    "\n",
    "w_min, w_max = np.min(w), np.max(w)\n",
    "\n",
    "classes = ['plane', 'car', 'bird', 'cat', 'deer', 'dog', 'frog', 'horse', 'ship', 'truck']\n",
    "for i in range(10):\n",
    "    plt.subplot(2, 5, i + 1)\n",
    "    \n",
    "    # Rescale the weights to be between 0 and 255\n",
    "    wimg = 255.0 * (w[:, :, :, i].squeeze() - w_min) / (w_max - w_min)\n",
    "    plt.imshow(wimg.astype('uint8'))\n",
    "    plt.axis('off')\n",
    "    plt.title(classes[i])"
   ]
  },
  {
   "cell_type": "code",
   "execution_count": null,
   "metadata": {},
   "outputs": [],
   "source": []
  }
 ],
 "metadata": {
  "kernelspec": {
   "display_name": "Python 3",
   "language": "python",
   "name": "python3"
  },
  "language_info": {
   "codemirror_mode": {
    "name": "ipython",
    "version": 3
   },
   "file_extension": ".py",
   "mimetype": "text/x-python",
   "name": "python",
   "nbconvert_exporter": "python",
   "pygments_lexer": "ipython3",
   "version": "3.6.7"
  }
 },
 "nbformat": 4,
 "nbformat_minor": 1
}
